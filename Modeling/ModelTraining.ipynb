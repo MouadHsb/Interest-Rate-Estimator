{
 "cells": [
  {
   "cell_type": "markdown",
   "id": "559a653c-cfcc-4432-8880-1c74eaa3538a",
   "metadata": {
    "jp-MarkdownHeadingCollapsed": true
   },
   "source": [
    "# 0) Initiation"
   ]
  },
  {
   "cell_type": "markdown",
   "id": "948743d4-6c2a-4f8b-ad7d-b5be75cd7e7d",
   "metadata": {},
   "source": [
    "With our data cleaned and processed, the next logical step is to prepare it for the modeling phase. This involves loading the processed dataset, separating our features (the independent variables, X) from the target variable we want to predict (`int_rate`, y), and splitting the data into training and testing sets. The training set will be used to train and tune our models, while the test set will be kept aside as a final, unseen benchmark to evaluate the performance of our chosen model."
   ]
  },
  {
   "cell_type": "markdown",
   "id": "78117ae4-2fe6-4af3-bcba-427d7af731c9",
   "metadata": {},
   "source": [
    "## 0.1) Loading Essential Libraries"
   ]
  },
  {
   "cell_type": "code",
   "execution_count": 1,
   "id": "76457e25-843c-4c69-98cb-a414f834b56b",
   "metadata": {},
   "outputs": [
    {
     "name": "stdout",
     "output_type": "stream",
     "text": [
      "Loading Successful.\n"
     ]
    }
   ],
   "source": [
    "import pandas as pd\n",
    "import numpy as np\n",
    "import matplotlib.pyplot as plt\n",
    "import seaborn as sns\n",
    "import scipy.stats as stats\n",
    "\n",
    "from sklearn.base import clone\n",
    "from sklearn.feature_selection import SelectFromModel\n",
    "from sklearn.model_selection import train_test_split\n",
    "from sklearn.preprocessing import StandardScaler\n",
    "from sklearn.pipeline import Pipeline\n",
    "from sklearn.model_selection import cross_validate, RandomizedSearchCV\n",
    "from sklearn.metrics import mean_absolute_error, r2_score, mean_squared_error\n",
    "\n",
    "print(\"Loading Successful.\")"
   ]
  },
  {
   "cell_type": "markdown",
   "id": "d50964a5-0f7f-4b92-9f56-cda66202b2a4",
   "metadata": {
    "jp-MarkdownHeadingCollapsed": true
   },
   "source": [
    "## 0.2) Loading and Preparing Dataset"
   ]
  },
  {
   "cell_type": "code",
   "execution_count": 2,
   "id": "fb9138be-2be2-4843-8971-5a1e75ead317",
   "metadata": {},
   "outputs": [
    {
     "name": "stdout",
     "output_type": "stream",
     "text": [
      "Training set shape: X_train=(8649, 27), y_train=(8649,)\n",
      "Testing set shape: X_test=(2163, 27), y_test=(2163,)\n"
     ]
    }
   ],
   "source": [
    "df_processed = pd.read_csv('Data/LoansData_Processed.csv')\n",
    "\n",
    "X = df_processed.drop(['int_rate', 'grade_encoded'], axis=1)\n",
    "y = df_processed['int_rate']\n",
    "\n",
    "X.columns = X.columns.str.replace(' ', '_', regex=False)\n",
    "X_train, X_test, y_train, y_test = train_test_split(X, y, test_size=0.2, random_state=86)\n",
    "\n",
    "scaler = StandardScaler()\n",
    "scaler.set_output(transform=\"pandas\") \n",
    "\n",
    "print(f\"Training set shape: X_train={X_train.shape}, y_train={y_train.shape}\")\n",
    "print(f\"Testing set shape: X_test={X_test.shape}, y_test={y_test.shape}\")"
   ]
  },
  {
   "cell_type": "markdown",
   "id": "9a0644d6-5f5e-41c3-80ff-93e7909e6ea3",
   "metadata": {
    "jp-MarkdownHeadingCollapsed": true
   },
   "source": [
    "# 1) Initial Training and Model Selection"
   ]
  },
  {
   "cell_type": "markdown",
   "id": "191449e7-35e6-4ae3-9152-41eb53ecbd05",
   "metadata": {},
   "source": [
    "To determine the best model for our specific case, we will first evaluate which type of model performs best – whether it is linear models, tree absed models, or gradient boosting models. Then, upon identifying the best-performing type, we will choose the specific model from that category that achieved the strongest results and attempt to squeeze more performance out of it through tuning."
   ]
  },
  {
   "cell_type": "markdown",
   "id": "8756ed2d-5931-42e5-b326-873e7ff32c33",
   "metadata": {},
   "source": [
    "## 1.1) Initial Training"
   ]
  },
  {
   "cell_type": "markdown",
   "id": "0a36d1cf-2480-4e03-b38d-e1aa254d0729",
   "metadata": {},
   "source": [
    "To find the best approach for estimating interest rates, we'll evaluate a few different types of regression models known for their effectiveness on tabular data: a regularized linear model (`Ridge`), an ensemble of decision trees (`RandomForestRegressor`), and a gradient boosting model (`GradientBoostingRegressor`). To ensure fair comparison and prevent data leakage, especially since some models benefit from feature scaling, we'll bundle the scaling step (`StandardScaler`) and the model training step into a `Pipeline`."
   ]
  },
  {
   "cell_type": "code",
   "execution_count": 3,
   "id": "8b0c00a5-1c9e-4d5f-845b-7dde802d9700",
   "metadata": {},
   "outputs": [
    {
     "name": "stdout",
     "output_type": "stream",
     "text": [
      "Models and scoring prepared successfully.\n"
     ]
    }
   ],
   "source": [
    "from sklearn.linear_model import Ridge\n",
    "from sklearn.ensemble import RandomForestRegressor\n",
    "from sklearn.ensemble import GradientBoostingRegressor\n",
    "\n",
    "ridge_pipe = Pipeline([('scaler', scaler), ('ridge', Ridge(random_state=86))])\n",
    "rf_pipe = Pipeline([('scaler', scaler), ('rf', RandomForestRegressor(random_state=86, n_estimators=100, n_jobs=-1))])\n",
    "gbr_pipe = Pipeline([('scaler', scaler), ('gbr', GradientBoostingRegressor(random_state=86))])\n",
    "\n",
    "pipelines = {\n",
    "    'Ridge': ridge_pipe,\n",
    "    'Random Forest': rf_pipe,\n",
    "    'Gradient Boosting': gbr_pipe\n",
    "}\n",
    "\n",
    "scoring = {\n",
    "    'R2': 'r2',\n",
    "    'MAE': 'neg_mean_absolute_error',\n",
    "    'RMSE': 'neg_root_mean_squared_error'\n",
    "}\n",
    "\n",
    "print(\"Models and scoring prepared successfully.\")"
   ]
  },
  {
   "cell_type": "code",
   "execution_count": 4,
   "id": "770cb034-7e3d-4fdb-ab64-02d9aa27b54e",
   "metadata": {},
   "outputs": [
    {
     "name": "stdout",
     "output_type": "stream",
     "text": [
      "Running Cross-Validation...\n",
      "... Ridge Done.\n",
      "... Random Forest Done.\n",
      "... Gradient Boosting Done.\n",
      "\n",
      "Cross-Validation Results:\n"
     ]
    },
    {
     "data": {
      "text/html": [
       "<div>\n",
       "<style scoped>\n",
       "    .dataframe tbody tr th:only-of-type {\n",
       "        vertical-align: middle;\n",
       "    }\n",
       "\n",
       "    .dataframe tbody tr th {\n",
       "        vertical-align: top;\n",
       "    }\n",
       "\n",
       "    .dataframe thead th {\n",
       "        text-align: right;\n",
       "    }\n",
       "</style>\n",
       "<table border=\"1\" class=\"dataframe\">\n",
       "  <thead>\n",
       "    <tr style=\"text-align: right;\">\n",
       "      <th></th>\n",
       "      <th>Fit Time</th>\n",
       "      <th>Score Time</th>\n",
       "      <th>R2</th>\n",
       "      <th>MAE</th>\n",
       "      <th>RMSE</th>\n",
       "    </tr>\n",
       "  </thead>\n",
       "  <tbody>\n",
       "    <tr>\n",
       "      <th>Ridge</th>\n",
       "      <td>0.023724</td>\n",
       "      <td>0.010787</td>\n",
       "      <td>0.484590</td>\n",
       "      <td>2.032439</td>\n",
       "      <td>2.552447</td>\n",
       "    </tr>\n",
       "    <tr>\n",
       "      <th>Random Forest</th>\n",
       "      <td>4.843351</td>\n",
       "      <td>0.073843</td>\n",
       "      <td>0.492766</td>\n",
       "      <td>2.016636</td>\n",
       "      <td>2.531651</td>\n",
       "    </tr>\n",
       "    <tr>\n",
       "      <th>Gradient Boosting</th>\n",
       "      <td>2.412019</td>\n",
       "      <td>0.011058</td>\n",
       "      <td>0.523871</td>\n",
       "      <td>1.949803</td>\n",
       "      <td>2.453181</td>\n",
       "    </tr>\n",
       "  </tbody>\n",
       "</table>\n",
       "</div>"
      ],
      "text/plain": [
       "                   Fit Time  Score Time        R2       MAE      RMSE\n",
       "Ridge              0.023724    0.010787  0.484590  2.032439  2.552447\n",
       "Random Forest      4.843351    0.073843  0.492766  2.016636  2.531651\n",
       "Gradient Boosting  2.412019    0.011058  0.523871  1.949803  2.453181"
      ]
     },
     "execution_count": 4,
     "metadata": {},
     "output_type": "execute_result"
    }
   ],
   "source": [
    "cv_results = {}\n",
    "\n",
    "print(\"Running Cross-Validation...\")\n",
    "for name, pipe in pipelines.items():\n",
    "    scores = cross_validate(pipe, X_train, y_train, cv=5, scoring=scoring, n_jobs=-1)\n",
    "    cv_results[name] = {\n",
    "        'Fit Time': scores['fit_time'].mean(),\n",
    "        'Score Time': scores['score_time'].mean(),\n",
    "        'R2': scores['test_R2'].mean(),\n",
    "        'MAE': -scores['test_MAE'].mean(), \n",
    "        'RMSE': -scores['test_RMSE'].mean() \n",
    "    }\n",
    "    print(f\"... {name} Done.\")\n",
    "\n",
    "cv_results_df = pd.DataFrame(cv_results).T\n",
    "print(\"\\nCross-Validation Results:\")\n",
    "cv_results_df"
   ]
  },
  {
   "cell_type": "markdown",
   "id": "03314819-d9d7-4375-a6bd-d9869e0638da",
   "metadata": {},
   "source": [
    "From the 5-fold cross-validation we performed on the training data using `Ridge`, `Random Forest`, and `Gradient Boosting` models within pipelines that included feature scaling. The results indicate clearly that `Gradient Boosting` performed best across all metrics, achieving the highest R2 score (0.52) and the lowest MAE (1.95) and RMSE (2.45)."
   ]
  },
  {
   "cell_type": "markdown",
   "id": "6ed4efa3-0db8-4a4c-b0cd-67e73cd93576",
   "metadata": {},
   "source": [
    "## 1.2) Model Selection"
   ]
  },
  {
   "cell_type": "markdown",
   "id": "22ee63eb-e241-4568-b28d-7b302111d807",
   "metadata": {},
   "source": [
    "Since the initial results suggest `GradientBoostingRegressor` performed well, we will examine similar gradient models to select the best performing one for tuning and further analysis."
   ]
  },
  {
   "cell_type": "code",
   "execution_count": 5,
   "id": "dd5f66a1-84db-4934-8edf-980a360d4ed5",
   "metadata": {},
   "outputs": [
    {
     "name": "stdout",
     "output_type": "stream",
     "text": [
      "Models and scoring prepared successfully.\n"
     ]
    }
   ],
   "source": [
    "from sklearn.ensemble import GradientBoostingRegressor\n",
    "from sklearn.ensemble import HistGradientBoostingRegressor\n",
    "from xgboost import XGBRegressor\n",
    "from lightgbm import LGBMRegressor\n",
    "from catboost import CatBoostRegressor\n",
    "\n",
    "gbr_pipe = Pipeline([('scaler', scaler), ('gbr', GradientBoostingRegressor(random_state=86))])\n",
    "hgb_pipe = Pipeline([('scaler', scaler), ('hgb', HistGradientBoostingRegressor(random_state=86))])\n",
    "xgb_pipe = Pipeline([('scaler', scaler), ('xgb', XGBRegressor(random_state=86, n_jobs=-1, objective='reg:squarederror'))])\n",
    "lgbm_pipe = Pipeline([('scaler', scaler), ('lgbm', LGBMRegressor(random_state=86, n_jobs=-1, verbose=0))])\n",
    "catboost_pipe = Pipeline([('scaler', scaler), ('catboost', CatBoostRegressor(random_state=86, verbose=0))])\n",
    "\n",
    "pipelines = {\n",
    "    'Gradient Boosting': gbr_pipe,\n",
    "    'XGBoost': xgb_pipe,\n",
    "    'LightGBM': lgbm_pipe,\n",
    "    'CatBoost': catboost_pipe,\n",
    "    'HistGradientBoosting': hgb_pipe\n",
    "}\n",
    "\n",
    "scoring = {\n",
    "    'R2': 'r2',\n",
    "    'MAE': 'neg_mean_absolute_error',\n",
    "    'RMSE': 'neg_root_mean_squared_error'\n",
    "}\n",
    "\n",
    "print(\"Models and scoring prepared successfully.\")"
   ]
  },
  {
   "cell_type": "code",
   "execution_count": 6,
   "id": "fd232f3c-c22c-4a4f-b312-b1cd9174a3be",
   "metadata": {},
   "outputs": [
    {
     "name": "stdout",
     "output_type": "stream",
     "text": [
      "Running Cross-Validation...\n",
      "... Gradient Boosting Done.\n",
      "... XGBoost Done.\n",
      "... LightGBM Done.\n",
      "... CatBoost Done.\n",
      "... HistGradientBoosting Done.\n",
      "\n",
      "Cross-Validation Results:\n"
     ]
    },
    {
     "data": {
      "text/html": [
       "<div>\n",
       "<style scoped>\n",
       "    .dataframe tbody tr th:only-of-type {\n",
       "        vertical-align: middle;\n",
       "    }\n",
       "\n",
       "    .dataframe tbody tr th {\n",
       "        vertical-align: top;\n",
       "    }\n",
       "\n",
       "    .dataframe thead th {\n",
       "        text-align: right;\n",
       "    }\n",
       "</style>\n",
       "<table border=\"1\" class=\"dataframe\">\n",
       "  <thead>\n",
       "    <tr style=\"text-align: right;\">\n",
       "      <th></th>\n",
       "      <th>Fit Time</th>\n",
       "      <th>Score Time</th>\n",
       "      <th>R2</th>\n",
       "      <th>MAE</th>\n",
       "      <th>RMSE</th>\n",
       "    </tr>\n",
       "  </thead>\n",
       "  <tbody>\n",
       "    <tr>\n",
       "      <th>Gradient Boosting</th>\n",
       "      <td>2.232730</td>\n",
       "      <td>0.011572</td>\n",
       "      <td>0.523871</td>\n",
       "      <td>1.949803</td>\n",
       "      <td>2.453181</td>\n",
       "    </tr>\n",
       "    <tr>\n",
       "      <th>XGBoost</th>\n",
       "      <td>0.293193</td>\n",
       "      <td>0.016802</td>\n",
       "      <td>0.477570</td>\n",
       "      <td>2.025575</td>\n",
       "      <td>2.569511</td>\n",
       "    </tr>\n",
       "    <tr>\n",
       "      <th>LightGBM</th>\n",
       "      <td>1.899278</td>\n",
       "      <td>0.008927</td>\n",
       "      <td>0.530787</td>\n",
       "      <td>1.923744</td>\n",
       "      <td>2.435237</td>\n",
       "    </tr>\n",
       "    <tr>\n",
       "      <th>CatBoost</th>\n",
       "      <td>4.441201</td>\n",
       "      <td>0.013621</td>\n",
       "      <td>0.537908</td>\n",
       "      <td>1.905839</td>\n",
       "      <td>2.416588</td>\n",
       "    </tr>\n",
       "    <tr>\n",
       "      <th>HistGradientBoosting</th>\n",
       "      <td>0.604818</td>\n",
       "      <td>0.027318</td>\n",
       "      <td>0.526006</td>\n",
       "      <td>1.935150</td>\n",
       "      <td>2.447559</td>\n",
       "    </tr>\n",
       "  </tbody>\n",
       "</table>\n",
       "</div>"
      ],
      "text/plain": [
       "                      Fit Time  Score Time        R2       MAE      RMSE\n",
       "Gradient Boosting     2.232730    0.011572  0.523871  1.949803  2.453181\n",
       "XGBoost               0.293193    0.016802  0.477570  2.025575  2.569511\n",
       "LightGBM              1.899278    0.008927  0.530787  1.923744  2.435237\n",
       "CatBoost              4.441201    0.013621  0.537908  1.905839  2.416588\n",
       "HistGradientBoosting  0.604818    0.027318  0.526006  1.935150  2.447559"
      ]
     },
     "execution_count": 6,
     "metadata": {},
     "output_type": "execute_result"
    }
   ],
   "source": [
    "cv_results = {}\n",
    "\n",
    "print(\"Running Cross-Validation...\")\n",
    "for name, pipe in pipelines.items():\n",
    "    scores = cross_validate(pipe, X_train, y_train, cv=5, scoring=scoring, n_jobs=-1)\n",
    "    cv_results[name] = {\n",
    "        'Fit Time': scores['fit_time'].mean(),\n",
    "        'Score Time': scores['score_time'].mean(),\n",
    "        'R2': scores['test_R2'].mean(),\n",
    "        'MAE': -scores['test_MAE'].mean(),\n",
    "        'RMSE': -scores['test_RMSE'].mean() \n",
    "    }\n",
    "    print(f\"... {name} Done.\")\n",
    "\n",
    "cv_results_df = pd.DataFrame(cv_results).T\n",
    "print(\"\\nCross-Validation Results:\")\n",
    "cv_results_df"
   ]
  },
  {
   "cell_type": "markdown",
   "id": "82d83f19-01c4-443d-b38d-42dd95bfb479",
   "metadata": {},
   "source": [
    "Such results make the choice of the model quite hard. `CatBoost` seems to edge out all other models while having a the longest fit time, which means hyperparameter tuning will be the most computationally expensive for this model. `LightGBM` is a close runner up, but with much lower fit time, making it more suitable for hyperparameter tuning."
   ]
  },
  {
   "cell_type": "markdown",
   "id": "3bef76f2-08a9-4052-aaeb-a86e9e669785",
   "metadata": {},
   "source": [
    "# 2) Feature Selection & Hyperparams Tuning"
   ]
  },
  {
   "cell_type": "markdown",
   "id": "872cb200-176f-402c-a73a-d09910d635ba",
   "metadata": {},
   "source": [
    "We want to reduce the number of irrelevent features for our models, that's why we will be defining a function that will train the model, select the most important features, retrain the model on these features then compare performance before and after. This function will then be applied to both `LightGBM` and `CatBoost` to determine which one will be `The chosen one` for hypertuning."
   ]
  },
  {
   "cell_type": "markdown",
   "id": "345f97fd-a19a-4d52-bf78-e3a8e5fcb2b5",
   "metadata": {},
   "source": [
    "## 2.0) Feature Selection Helper Function :"
   ]
  },
  {
   "cell_type": "code",
   "execution_count": 7,
   "id": "a8b1910e-f405-45bd-9e29-8c6f1ef19597",
   "metadata": {
    "jupyter": {
     "source_hidden": true
    }
   },
   "outputs": [],
   "source": [
    "def perform_feature_selection(pipeline, X_train, X_test, y_train, y_test, model_name='model', threshold=\"median\", cv=5):\n",
    "    # Store feature names\n",
    "    feature_names = X_train.columns.tolist()\n",
    "    \n",
    "    # Convert to numpy arrays if they're DataFrames to avoid the warnings\n",
    "    X_train_values = X_train.values if hasattr(X_train, 'values') else X_train\n",
    "    X_test_values = X_test.values if hasattr(X_test, 'values') else X_test\n",
    "    \n",
    "    # Train full model\n",
    "    pipeline_full = clone(pipeline)\n",
    "    pipeline_full.fit(X_train_values, y_train)\n",
    "    model = pipeline_full.named_steps[model_name]\n",
    "    \n",
    "    # Get feature importances\n",
    "    if hasattr(model, 'feature_importances_'):\n",
    "        feature_importances = model.feature_importances_\n",
    "    elif hasattr(model, 'get_feature_importance'):\n",
    "        feature_importances = model.get_feature_importance()\n",
    "    else:\n",
    "        raise ValueError(\"Model doesn't support feature importance\")\n",
    "    \n",
    "    # Evaluate full model\n",
    "    y_pred_full = pipeline_full.predict(X_test_values)\n",
    "    full_metrics = {\n",
    "        'Test R2': r2_score(y_test, y_pred_full),\n",
    "        'Test MAE': mean_absolute_error(y_test, y_pred_full),\n",
    "        'Test RMSE': np.sqrt(mean_squared_error(y_test, y_pred_full))\n",
    "    }\n",
    "    \n",
    "    # CV on full model\n",
    "    scoring = {'R2': 'r2', 'MAE': 'neg_mean_absolute_error', 'RMSE': 'neg_root_mean_squared_error'}\n",
    "    scores_full = cross_validate(pipeline_full, X_train_values, y_train, cv=cv, scoring=scoring, n_jobs=-1)\n",
    "    full_metrics.update({\n",
    "        'CV R2': scores_full['test_R2'].mean(),\n",
    "        'CV MAE': -scores_full['test_MAE'].mean(),\n",
    "        'CV RMSE': -scores_full['test_RMSE'].mean(),\n",
    "        'Fit Time': scores_full['fit_time'].mean(),\n",
    "        'Score Time': scores_full['score_time'].mean(),\n",
    "        'Feature Count': X_train.shape[1]\n",
    "    })\n",
    "    \n",
    "    # Feature selection\n",
    "    selector = SelectFromModel(estimator=model, threshold=threshold, prefit=True)\n",
    "    X_train_selected = selector.transform(X_train_values)\n",
    "    X_test_selected = selector.transform(X_test_values)\n",
    "    selected_indices = selector.get_support(indices=True)\n",
    "    selected_names = [feature_names[i] for i in selected_indices]\n",
    "    print(f\"Features: {X_train.shape[1]} → {X_train_selected.shape[1]}, selected: {selected_names}\")\n",
    "    \n",
    "    # Train and evaluate selected model\n",
    "    pipeline_selected = clone(pipeline)\n",
    "    pipeline_selected.fit(X_train_selected, y_train)\n",
    "    y_pred_selected = pipeline_selected.predict(X_test_selected)\n",
    "    selected_metrics = {\n",
    "        'Test R2': r2_score(y_test, y_pred_selected),\n",
    "        'Test MAE': mean_absolute_error(y_test, y_pred_selected),\n",
    "        'Test RMSE': np.sqrt(mean_squared_error(y_test, y_pred_selected))\n",
    "    }\n",
    "    \n",
    "    # CV on selected model\n",
    "    scores_selected = cross_validate(pipeline_selected, X_train_selected, y_train, cv=cv, scoring=scoring, n_jobs=-1)\n",
    "    selected_metrics.update({\n",
    "        'CV R2': scores_selected['test_R2'].mean(),\n",
    "        'CV MAE': -scores_selected['test_MAE'].mean(),\n",
    "        'CV RMSE': -scores_selected['test_RMSE'].mean(),\n",
    "        'Fit Time': scores_selected['fit_time'].mean(),\n",
    "        'Score Time': scores_selected['score_time'].mean(),\n",
    "        'Feature Count': X_train_selected.shape[1]\n",
    "    })\n",
    "    \n",
    "    # Create comparison DataFrame\n",
    "    metrics = ['Test R2', 'Test MAE', 'Test RMSE', 'CV R2', 'CV MAE', 'CV RMSE', \n",
    "               'Fit Time', 'Score Time', 'Feature Count']\n",
    "    comparison = pd.DataFrame({\n",
    "        'Metric': metrics,\n",
    "        'All Features': [full_metrics[m] for m in metrics],\n",
    "        'Selected Features': [selected_metrics[m] for m in metrics]\n",
    "    })\n",
    "    \n",
    "    # Convert selected datasets back to DataFrames with proper feature names\n",
    "    if hasattr(X_train, 'iloc'):  # Check if it's a DataFrame\n",
    "        X_train_selected_df = pd.DataFrame(X_train_selected, columns=selected_names)\n",
    "        X_test_selected_df = pd.DataFrame(X_test_selected, columns=selected_names)\n",
    "        return comparison, selected_names, (X_train_selected_df, X_test_selected_df)\n",
    "    else:\n",
    "        return comparison, selected_names, (X_train_selected, X_test_selected)"
   ]
  },
  {
   "cell_type": "markdown",
   "id": "a89add9c-e3d4-42ff-a4fc-74b892d53491",
   "metadata": {},
   "source": [
    "## 2.1) Feature Selection on LightGBM & CatBoost"
   ]
  },
  {
   "cell_type": "code",
   "execution_count": 8,
   "id": "0775a803-c515-4f59-b139-e64a10b32b8b",
   "metadata": {},
   "outputs": [
    {
     "name": "stdout",
     "output_type": "stream",
     "text": [
      "Features: 27 → 14, selected: ['fico', 'loan_amnt', 'dti', 'revol_util', 'total_bc_limit', 'revol_bal', 'total_acc', 'annual_inc', 'mths_since_recent_inq', 'open_acc', 'percent_bc_gt_75', 'term_encoded', 'verified_Verified', 'title_Credit_card_refinancing']\n",
      "\n",
      "LightGBM Feature Selection Results:\n"
     ]
    },
    {
     "data": {
      "text/html": [
       "<div>\n",
       "<style scoped>\n",
       "    .dataframe tbody tr th:only-of-type {\n",
       "        vertical-align: middle;\n",
       "    }\n",
       "\n",
       "    .dataframe tbody tr th {\n",
       "        vertical-align: top;\n",
       "    }\n",
       "\n",
       "    .dataframe thead th {\n",
       "        text-align: right;\n",
       "    }\n",
       "</style>\n",
       "<table border=\"1\" class=\"dataframe\">\n",
       "  <thead>\n",
       "    <tr style=\"text-align: right;\">\n",
       "      <th>Metric</th>\n",
       "      <th>Test R2</th>\n",
       "      <th>Test MAE</th>\n",
       "      <th>Test RMSE</th>\n",
       "      <th>CV R2</th>\n",
       "      <th>CV MAE</th>\n",
       "      <th>CV RMSE</th>\n",
       "      <th>Fit Time</th>\n",
       "      <th>Score Time</th>\n",
       "      <th>Feature Count</th>\n",
       "    </tr>\n",
       "  </thead>\n",
       "  <tbody>\n",
       "    <tr>\n",
       "      <th>All Features</th>\n",
       "      <td>0.531715</td>\n",
       "      <td>1.924787</td>\n",
       "      <td>2.446152</td>\n",
       "      <td>0.530787</td>\n",
       "      <td>1.923744</td>\n",
       "      <td>2.435237</td>\n",
       "      <td>1.759468</td>\n",
       "      <td>0.011785</td>\n",
       "      <td>27.0</td>\n",
       "    </tr>\n",
       "    <tr>\n",
       "      <th>Selected Features</th>\n",
       "      <td>0.503099</td>\n",
       "      <td>1.990578</td>\n",
       "      <td>2.519782</td>\n",
       "      <td>0.507929</td>\n",
       "      <td>1.977430</td>\n",
       "      <td>2.493542</td>\n",
       "      <td>1.826092</td>\n",
       "      <td>0.009679</td>\n",
       "      <td>14.0</td>\n",
       "    </tr>\n",
       "  </tbody>\n",
       "</table>\n",
       "</div>"
      ],
      "text/plain": [
       "Metric              Test R2  Test MAE  Test RMSE     CV R2    CV MAE  \\\n",
       "All Features       0.531715  1.924787   2.446152  0.530787  1.923744   \n",
       "Selected Features  0.503099  1.990578   2.519782  0.507929  1.977430   \n",
       "\n",
       "Metric              CV RMSE  Fit Time  Score Time  Feature Count  \n",
       "All Features       2.435237  1.759468    0.011785           27.0  \n",
       "Selected Features  2.493542  1.826092    0.009679           14.0  "
      ]
     },
     "metadata": {},
     "output_type": "display_data"
    },
    {
     "name": "stdout",
     "output_type": "stream",
     "text": [
      "Features: 27 → 14, selected: ['fico', 'loan_amnt', 'dti', 'revol_util', 'total_bc_limit', 'revol_bal', 'total_acc', 'annual_inc', 'mths_since_recent_inq', 'open_acc', 'term_encoded', 'verified_Not_Verified', 'verified_Verified', 'title_Credit_card_refinancing']\n",
      "\n",
      "CatBoost Feature Selection Results:\n"
     ]
    },
    {
     "data": {
      "text/html": [
       "<div>\n",
       "<style scoped>\n",
       "    .dataframe tbody tr th:only-of-type {\n",
       "        vertical-align: middle;\n",
       "    }\n",
       "\n",
       "    .dataframe tbody tr th {\n",
       "        vertical-align: top;\n",
       "    }\n",
       "\n",
       "    .dataframe thead th {\n",
       "        text-align: right;\n",
       "    }\n",
       "</style>\n",
       "<table border=\"1\" class=\"dataframe\">\n",
       "  <thead>\n",
       "    <tr style=\"text-align: right;\">\n",
       "      <th>Metric</th>\n",
       "      <th>Test R2</th>\n",
       "      <th>Test MAE</th>\n",
       "      <th>Test RMSE</th>\n",
       "      <th>CV R2</th>\n",
       "      <th>CV MAE</th>\n",
       "      <th>CV RMSE</th>\n",
       "      <th>Fit Time</th>\n",
       "      <th>Score Time</th>\n",
       "      <th>Feature Count</th>\n",
       "    </tr>\n",
       "  </thead>\n",
       "  <tbody>\n",
       "    <tr>\n",
       "      <th>All Features</th>\n",
       "      <td>0.542365</td>\n",
       "      <td>1.902167</td>\n",
       "      <td>2.418174</td>\n",
       "      <td>0.537908</td>\n",
       "      <td>1.905839</td>\n",
       "      <td>2.416588</td>\n",
       "      <td>4.502258</td>\n",
       "      <td>0.026253</td>\n",
       "      <td>27.0</td>\n",
       "    </tr>\n",
       "    <tr>\n",
       "      <th>Selected Features</th>\n",
       "      <td>0.520976</td>\n",
       "      <td>1.944465</td>\n",
       "      <td>2.474040</td>\n",
       "      <td>0.527284</td>\n",
       "      <td>1.936432</td>\n",
       "      <td>2.443754</td>\n",
       "      <td>3.374027</td>\n",
       "      <td>0.009694</td>\n",
       "      <td>14.0</td>\n",
       "    </tr>\n",
       "  </tbody>\n",
       "</table>\n",
       "</div>"
      ],
      "text/plain": [
       "Metric              Test R2  Test MAE  Test RMSE     CV R2    CV MAE  \\\n",
       "All Features       0.542365  1.902167   2.418174  0.537908  1.905839   \n",
       "Selected Features  0.520976  1.944465   2.474040  0.527284  1.936432   \n",
       "\n",
       "Metric              CV RMSE  Fit Time  Score Time  Feature Count  \n",
       "All Features       2.416588  4.502258    0.026253           27.0  \n",
       "Selected Features  2.443754  3.374027    0.009694           14.0  "
      ]
     },
     "metadata": {},
     "output_type": "display_data"
    },
    {
     "name": "stdout",
     "output_type": "stream",
     "text": [
      "\n",
      "Model Comparison (Selected Features Only):\n"
     ]
    },
    {
     "data": {
      "text/html": [
       "<div>\n",
       "<style scoped>\n",
       "    .dataframe tbody tr th:only-of-type {\n",
       "        vertical-align: middle;\n",
       "    }\n",
       "\n",
       "    .dataframe tbody tr th {\n",
       "        vertical-align: top;\n",
       "    }\n",
       "\n",
       "    .dataframe thead th {\n",
       "        text-align: right;\n",
       "    }\n",
       "</style>\n",
       "<table border=\"1\" class=\"dataframe\">\n",
       "  <thead>\n",
       "    <tr style=\"text-align: right;\">\n",
       "      <th>Metric</th>\n",
       "      <th>Test R2</th>\n",
       "      <th>Test MAE</th>\n",
       "      <th>Test RMSE</th>\n",
       "      <th>CV R2</th>\n",
       "      <th>CV MAE</th>\n",
       "      <th>CV RMSE</th>\n",
       "      <th>Fit Time</th>\n",
       "      <th>Score Time</th>\n",
       "      <th>Feature Count</th>\n",
       "    </tr>\n",
       "  </thead>\n",
       "  <tbody>\n",
       "    <tr>\n",
       "      <th>LightGBM</th>\n",
       "      <td>0.503099</td>\n",
       "      <td>1.990578</td>\n",
       "      <td>2.519782</td>\n",
       "      <td>0.507929</td>\n",
       "      <td>1.977430</td>\n",
       "      <td>2.493542</td>\n",
       "      <td>1.826092</td>\n",
       "      <td>0.009679</td>\n",
       "      <td>14.0</td>\n",
       "    </tr>\n",
       "    <tr>\n",
       "      <th>CatBoost</th>\n",
       "      <td>0.520976</td>\n",
       "      <td>1.944465</td>\n",
       "      <td>2.474040</td>\n",
       "      <td>0.527284</td>\n",
       "      <td>1.936432</td>\n",
       "      <td>2.443754</td>\n",
       "      <td>3.374027</td>\n",
       "      <td>0.009694</td>\n",
       "      <td>14.0</td>\n",
       "    </tr>\n",
       "  </tbody>\n",
       "</table>\n",
       "</div>"
      ],
      "text/plain": [
       "Metric     Test R2  Test MAE  Test RMSE     CV R2    CV MAE   CV RMSE  \\\n",
       "LightGBM  0.503099  1.990578   2.519782  0.507929  1.977430  2.493542   \n",
       "CatBoost  0.520976  1.944465   2.474040  0.527284  1.936432  2.443754   \n",
       "\n",
       "Metric    Fit Time  Score Time  Feature Count  \n",
       "LightGBM  1.826092    0.009679           14.0  \n",
       "CatBoost  3.374027    0.009694           14.0  "
      ]
     },
     "metadata": {},
     "output_type": "display_data"
    }
   ],
   "source": [
    "lgbm_pipeline = Pipeline([('scaler', scaler), ('lgbm', LGBMRegressor(random_state=86, n_jobs=-1, verbose=-1))])\n",
    "lgbm_comparison, lgbm_selected_features, (X_train_lgbm_selected, X_test_lgbm_selected) = perform_feature_selection(\n",
    "    lgbm_pipeline, X_train, X_test, y_train, y_test, model_name='lgbm'\n",
    ")\n",
    "print(\"\\nLightGBM Feature Selection Results:\")\n",
    "display(lgbm_comparison.set_index('Metric').T)\n",
    "\n",
    "catboost_pipeline = Pipeline([('scaler', scaler), ('catboost', CatBoostRegressor(random_seed=86, thread_count=-1, verbose=0))])\n",
    "catboost_comparison, catboost_selected_features, (X_train_catboost_selected, X_test_catboost_selected) = perform_feature_selection(\n",
    "    catboost_pipeline, X_train, X_test, y_train, y_test, model_name='catboost'\n",
    ")\n",
    "print(\"\\nCatBoost Feature Selection Results:\")\n",
    "display(catboost_comparison.set_index('Metric').T)\n",
    "\n",
    "print(\"\\nModel Comparison (Selected Features Only):\")\n",
    "model_comparison = pd.DataFrame({\n",
    "    'Metric': lgbm_comparison['Metric'],\n",
    "    'LightGBM': lgbm_comparison['Selected Features'],\n",
    "    'CatBoost': catboost_comparison['Selected Features']\n",
    "})\n",
    "display(model_comparison.set_index('Metric').T)"
   ]
  },
  {
   "cell_type": "markdown",
   "id": "bbf0a31b-1e8d-447c-816d-f44af0976761",
   "metadata": {},
   "source": [
    "Preforming this feature selection enables us to reduce the number of features by half, while losing out on negligible predictive performance (3-5% worse). The `CatBoost` models proved to be more resilient to the selection compared to `LightGBM`. Although `CatBoost` still has significantly higher fit time, the performance difference is no longer ignorable, so we will be choosing it from now on."
   ]
  },
  {
   "cell_type": "markdown",
   "id": "d9698cb8-12ae-45c2-a6f8-4a7f9485cb10",
   "metadata": {},
   "source": [
    "## 2.2) Hyperparameter Tuning"
   ]
  },
  {
   "cell_type": "markdown",
   "id": "94bda5a5-7bcf-4cf5-9186-a3b60f1b14aa",
   "metadata": {},
   "source": [
    "Since we do not have prior knowledge about the hyperparamters for this data set, using `GridSearchCV` would take too much time. So as a start we chose to use `RandomizedSearchCV` to ensure computational efficiency."
   ]
  },
  {
   "cell_type": "code",
   "execution_count": 9,
   "id": "232f13ed-4e20-478f-a375-38af344bc092",
   "metadata": {},
   "outputs": [
    {
     "name": "stdout",
     "output_type": "stream",
     "text": [
      "Fitting 5 folds for each of 50 candidates, totalling 250 fits\n",
      "Best parameters: {'catboost__random_strength': 1, 'catboost__learning_rate': 0.03, 'catboost__l2_leaf_reg': 3, 'catboost__iterations': 500, 'catboost__depth': 8, 'catboost__border_count': 128, 'catboost__bagging_temperature': 0}\n",
      "Best cross-validation score (negative MSE): 0.5253\n",
      "Test set RMSE: 2.4722\n",
      "Test set R²: 0.5217\n"
     ]
    }
   ],
   "source": [
    "pipeline = Pipeline([('scaler', scaler), ('catboost', CatBoostRegressor(random_seed=86, thread_count=-1, verbose=0))])\n",
    "\n",
    "param_grid = {\n",
    "    'catboost__learning_rate': [0.01, 0.03, 0.1],\n",
    "    'catboost__depth': [4, 6, 8, 10],\n",
    "    'catboost__iterations': [100, 200, 500],\n",
    "    'catboost__l2_leaf_reg': [1, 3, 5, 7],\n",
    "    'catboost__border_count': [32, 64, 128],\n",
    "    'catboost__bagging_temperature': [0, 1, 10],\n",
    "    'catboost__random_strength': [1, 10, 100]\n",
    "}\n",
    "\n",
    "random_search = RandomizedSearchCV(estimator=pipeline, param_distributions=param_grid, n_iter=50, cv=5,  n_jobs=-1, \n",
    "                                   verbose=1, random_state=86, return_train_score=True)\n",
    "random_search.fit(X_train_catboost_selected, y_train)\n",
    "\n",
    "best_params = random_search.best_params_\n",
    "best_score = random_search.best_score_\n",
    "print(f\"Best parameters: {best_params}\")\n",
    "print(f\"Best cross-validation score (negative MSE): {best_score:.4f}\")\n",
    "\n",
    "best_model = random_search.best_estimator_\n",
    "y_pred = best_model.predict(X_test_catboost_selected)\n",
    "test_rmse = np.sqrt(mean_squared_error(y_test, y_pred))\n",
    "test_r2 = r2_score(y_test, y_pred)\n",
    "print(f\"Test set RMSE: {test_rmse:.4f}\")\n",
    "print(f\"Test set R²: {test_r2:.4f}\")\n",
    "\n",
    "results = pd.DataFrame(random_search.cv_results_)\n",
    "results = results.sort_values(by='rank_test_score')"
   ]
  },
  {
   "cell_type": "markdown",
   "id": "7bf70767-2c65-46d3-adab-6f89c1fb6135",
   "metadata": {},
   "source": [
    "Hyperparameter tuning was able to squeeze out a bit more performance out of our model. Although negligible, it still is a free performance boost that we desperately need for our model."
   ]
  },
  {
   "cell_type": "markdown",
   "id": "c8f91331-1ab2-4968-8679-20bddbb7151c",
   "metadata": {},
   "source": [
    "# 3) Conclusion"
   ]
  },
  {
   "cell_type": "markdown",
   "id": "2182958f-c631-4a64-990e-bafee6d2bc22",
   "metadata": {},
   "source": [
    "In this notebook, we were able to use the data we processed in the other notebook to train and tune a CatBoost model to perform relatively well, explaining about `52.43%` of the variance, while having a margin of error of about `~2%`. This is acceptable for an initial assessment for users to help them get an idea of the interest rate they should be expecting. And with that we consider this modeling done successfully."
   ]
  },
  {
   "cell_type": "code",
   "execution_count": 10,
   "id": "ffc27af1-e1f7-4559-88e8-cb416ff0a40d",
   "metadata": {},
   "outputs": [
    {
     "name": "stdout",
     "output_type": "stream",
     "text": [
      "Model saved as 'catboost.joblib'\n"
     ]
    }
   ],
   "source": [
    "from joblib import dump\n",
    "dump(best_model, 'catboost.joblib')\n",
    "print(\"Model saved as 'catboost.joblib'\")"
   ]
  },
  {
   "cell_type": "markdown",
   "id": "a219240e-cd11-491a-babc-5920ad8b7763",
   "metadata": {},
   "source": [
    "# 4) NOTE"
   ]
  },
  {
   "cell_type": "markdown",
   "id": "ae979d1c-0cd8-4b99-ad58-77b56a88213b",
   "metadata": {},
   "source": [
    "After deployement of model, and initial testing with some users, feedback prooved that some featues are too hard to estimate or guess, this is why we will be eliminating some of there features, purely to enhance user experience!"
   ]
  },
  {
   "cell_type": "code",
   "execution_count": 26,
   "id": "0f6cb4d4-51da-4470-8467-66f90704d0a6",
   "metadata": {},
   "outputs": [
    {
     "data": {
      "text/html": [
       "<div>\n",
       "<style scoped>\n",
       "    .dataframe tbody tr th:only-of-type {\n",
       "        vertical-align: middle;\n",
       "    }\n",
       "\n",
       "    .dataframe tbody tr th {\n",
       "        vertical-align: top;\n",
       "    }\n",
       "\n",
       "    .dataframe thead th {\n",
       "        text-align: right;\n",
       "    }\n",
       "</style>\n",
       "<table border=\"1\" class=\"dataframe\">\n",
       "  <thead>\n",
       "    <tr style=\"text-align: right;\">\n",
       "      <th></th>\n",
       "      <th>fico</th>\n",
       "      <th>loan_amnt</th>\n",
       "      <th>dti</th>\n",
       "      <th>revol_util</th>\n",
       "      <th>total_bc_limit</th>\n",
       "      <th>revol_bal</th>\n",
       "      <th>total_acc</th>\n",
       "      <th>annual_inc</th>\n",
       "      <th>mths_since_recent_inq</th>\n",
       "      <th>open_acc</th>\n",
       "      <th>term_encoded</th>\n",
       "      <th>verified_Not_Verified</th>\n",
       "      <th>verified_Verified</th>\n",
       "      <th>title_Credit_card_refinancing</th>\n",
       "    </tr>\n",
       "  </thead>\n",
       "  <tbody>\n",
       "    <tr>\n",
       "      <th>count</th>\n",
       "      <td>8649.0</td>\n",
       "      <td>8649.0</td>\n",
       "      <td>8649.00</td>\n",
       "      <td>8649.0</td>\n",
       "      <td>8649.0</td>\n",
       "      <td>8649.0</td>\n",
       "      <td>8649.0</td>\n",
       "      <td>8649.0</td>\n",
       "      <td>8649.0</td>\n",
       "      <td>8649.0</td>\n",
       "      <td>8649</td>\n",
       "      <td>8649</td>\n",
       "      <td>8649</td>\n",
       "      <td>8649</td>\n",
       "    </tr>\n",
       "    <tr>\n",
       "      <th>unique</th>\n",
       "      <td>20.0</td>\n",
       "      <td>794.0</td>\n",
       "      <td>3121.00</td>\n",
       "      <td>1002.0</td>\n",
       "      <td>401.0</td>\n",
       "      <td>7075.0</td>\n",
       "      <td>49.0</td>\n",
       "      <td>932.0</td>\n",
       "      <td>20.0</td>\n",
       "      <td>19.0</td>\n",
       "      <td>2</td>\n",
       "      <td>2</td>\n",
       "      <td>2</td>\n",
       "      <td>2</td>\n",
       "    </tr>\n",
       "    <tr>\n",
       "      <th>top</th>\n",
       "      <td>662.0</td>\n",
       "      <td>10000.0</td>\n",
       "      <td>12.78</td>\n",
       "      <td>61.0</td>\n",
       "      <td>5000.0</td>\n",
       "      <td>0.0</td>\n",
       "      <td>22.0</td>\n",
       "      <td>60000.0</td>\n",
       "      <td>1.0</td>\n",
       "      <td>9.0</td>\n",
       "      <td>0</td>\n",
       "      <td>False</td>\n",
       "      <td>False</td>\n",
       "      <td>False</td>\n",
       "    </tr>\n",
       "    <tr>\n",
       "      <th>freq</th>\n",
       "      <td>1403.0</td>\n",
       "      <td>701.0</td>\n",
       "      <td>13.00</td>\n",
       "      <td>26.0</td>\n",
       "      <td>109.0</td>\n",
       "      <td>11.0</td>\n",
       "      <td>447.0</td>\n",
       "      <td>395.0</td>\n",
       "      <td>1057.0</td>\n",
       "      <td>985.0</td>\n",
       "      <td>6081</td>\n",
       "      <td>6940</td>\n",
       "      <td>5899</td>\n",
       "      <td>6836</td>\n",
       "    </tr>\n",
       "  </tbody>\n",
       "</table>\n",
       "</div>"
      ],
      "text/plain": [
       "          fico  loan_amnt      dti  revol_util  total_bc_limit  revol_bal  \\\n",
       "count   8649.0     8649.0  8649.00      8649.0          8649.0     8649.0   \n",
       "unique    20.0      794.0  3121.00      1002.0           401.0     7075.0   \n",
       "top      662.0    10000.0    12.78        61.0          5000.0        0.0   \n",
       "freq    1403.0      701.0    13.00        26.0           109.0       11.0   \n",
       "\n",
       "        total_acc  annual_inc  mths_since_recent_inq  open_acc  term_encoded  \\\n",
       "count      8649.0      8649.0                 8649.0    8649.0          8649   \n",
       "unique       49.0       932.0                   20.0      19.0             2   \n",
       "top          22.0     60000.0                    1.0       9.0             0   \n",
       "freq        447.0       395.0                 1057.0     985.0          6081   \n",
       "\n",
       "       verified_Not_Verified verified_Verified title_Credit_card_refinancing  \n",
       "count                   8649              8649                          8649  \n",
       "unique                     2                 2                             2  \n",
       "top                    False             False                         False  \n",
       "freq                    6940              5899                          6836  "
      ]
     },
     "execution_count": 26,
     "metadata": {},
     "output_type": "execute_result"
    }
   ],
   "source": [
    "X_train_catboost_selected.describe()"
   ]
  },
  {
   "cell_type": "code",
   "execution_count": 28,
   "id": "3292a93e-c8ef-4777-8016-99a2286b3a2d",
   "metadata": {},
   "outputs": [
    {
     "data": {
      "text/plain": [
       "np.float64(9894.56364897676)"
      ]
     },
     "execution_count": 28,
     "metadata": {},
     "output_type": "execute_result"
    }
   ],
   "source": [
    "X_train_catboost_selected['revol_bal'].mean()"
   ]
  },
  {
   "cell_type": "code",
   "execution_count": null,
   "id": "2a34842e-46bb-4481-884d-737325c5ed03",
   "metadata": {},
   "outputs": [],
   "source": []
  }
 ],
 "metadata": {
  "kernelspec": {
   "display_name": "Python 3 (ipykernel)",
   "language": "python",
   "name": "python3"
  },
  "language_info": {
   "codemirror_mode": {
    "name": "ipython",
    "version": 3
   },
   "file_extension": ".py",
   "mimetype": "text/x-python",
   "name": "python",
   "nbconvert_exporter": "python",
   "pygments_lexer": "ipython3",
   "version": "3.10.13"
  }
 },
 "nbformat": 4,
 "nbformat_minor": 5
}
